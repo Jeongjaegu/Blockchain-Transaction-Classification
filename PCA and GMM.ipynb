{
 "cells": [
  {
   "cell_type": "code",
   "execution_count": 18,
   "metadata": {
    "collapsed": false
   },
   "outputs": [],
   "source": [
    "import numpy as np\n",
    "import pandas as pd\n",
    "import tensorflow as tf\n",
    "import matplotlib.pyplot as plt\n",
    "from tensorflow.contrib.factorization.python.ops import gmm as gmm_lib\n",
    "from tensorflow.contrib.learn.python.learn.estimators import run_config"
   ]
  },
  {
   "cell_type": "code",
   "execution_count": 136,
   "metadata": {
    "collapsed": true
   },
   "outputs": [
    {
     "data": {
      "text/html": [
       "<div>\n",
       "<table border=\"1\" class=\"dataframe\">\n",
       "  <thead>\n",
       "    <tr style=\"text-align: right;\">\n",
       "      <th></th>\n",
       "      <th>Unnamed: 0</th>\n",
       "      <th>userID</th>\n",
       "      <th>value_in</th>\n",
       "      <th>nr_address</th>\n",
       "      <th>value_out</th>\n",
       "      <th>value_net</th>\n",
       "    </tr>\n",
       "  </thead>\n",
       "  <tbody>\n",
       "    <tr>\n",
       "      <th>0</th>\n",
       "      <td>234202</td>\n",
       "      <td>338905.0</td>\n",
       "      <td>1104882393,00</td>\n",
       "      <td>02.00</td>\n",
       "      <td>104892393.0</td>\n",
       "      <td>999990000.0</td>\n",
       "    </tr>\n",
       "    <tr>\n",
       "      <th>1</th>\n",
       "      <td>184296</td>\n",
       "      <td>265188.0</td>\n",
       "      <td>300000,00</td>\n",
       "      <td>03.00</td>\n",
       "      <td>200001.0</td>\n",
       "      <td>99999.0</td>\n",
       "    </tr>\n",
       "    <tr>\n",
       "      <th>2</th>\n",
       "      <td>64394</td>\n",
       "      <td>90780.0</td>\n",
       "      <td>108226772,00</td>\n",
       "      <td>02.00</td>\n",
       "      <td>98227566.0</td>\n",
       "      <td>9999206.0</td>\n",
       "    </tr>\n",
       "    <tr>\n",
       "      <th>3</th>\n",
       "      <td>8344</td>\n",
       "      <td>11857.0</td>\n",
       "      <td>249980000,00</td>\n",
       "      <td>05.00</td>\n",
       "      <td>149990000.0</td>\n",
       "      <td>99990000.0</td>\n",
       "    </tr>\n",
       "    <tr>\n",
       "      <th>4</th>\n",
       "      <td>231365</td>\n",
       "      <td>334728.0</td>\n",
       "      <td>379980000,00</td>\n",
       "      <td>02.00</td>\n",
       "      <td>279990000.0</td>\n",
       "      <td>99990000.0</td>\n",
       "    </tr>\n",
       "    <tr>\n",
       "      <th>5</th>\n",
       "      <td>226322</td>\n",
       "      <td>327284.0</td>\n",
       "      <td>227232,00</td>\n",
       "      <td>02.00</td>\n",
       "      <td>127242.0</td>\n",
       "      <td>99990.0</td>\n",
       "    </tr>\n",
       "    <tr>\n",
       "      <th>6</th>\n",
       "      <td>239510</td>\n",
       "      <td>346745.0</td>\n",
       "      <td>4067920638,00</td>\n",
       "      <td>02.00</td>\n",
       "      <td>3068090638.0</td>\n",
       "      <td>999830000.0</td>\n",
       "    </tr>\n",
       "    <tr>\n",
       "      <th>7</th>\n",
       "      <td>272210</td>\n",
       "      <td>395146.0</td>\n",
       "      <td>6001913903,00</td>\n",
       "      <td>02.00</td>\n",
       "      <td>5002100000.0</td>\n",
       "      <td>999813903.0</td>\n",
       "    </tr>\n",
       "    <tr>\n",
       "      <th>8</th>\n",
       "      <td>181274</td>\n",
       "      <td>260708.0</td>\n",
       "      <td>99990000,00</td>\n",
       "      <td>02.00</td>\n",
       "      <td>10000.0</td>\n",
       "      <td>99980000.0</td>\n",
       "    </tr>\n",
       "    <tr>\n",
       "      <th>9</th>\n",
       "      <td>257479</td>\n",
       "      <td>373329.0</td>\n",
       "      <td>1998800,00</td>\n",
       "      <td>02.00</td>\n",
       "      <td>999400.0</td>\n",
       "      <td>999400.0</td>\n",
       "    </tr>\n",
       "    <tr>\n",
       "      <th>10</th>\n",
       "      <td>41330</td>\n",
       "      <td>57943.0</td>\n",
       "      <td>214032377,00</td>\n",
       "      <td>12.00</td>\n",
       "      <td>114121499.0</td>\n",
       "      <td>99910878.0</td>\n",
       "    </tr>\n",
       "    <tr>\n",
       "      <th>11</th>\n",
       "      <td>271607</td>\n",
       "      <td>394294.0</td>\n",
       "      <td>100900000,00</td>\n",
       "      <td>02.00</td>\n",
       "      <td>1000000.0</td>\n",
       "      <td>99900000.0</td>\n",
       "    </tr>\n",
       "    <tr>\n",
       "      <th>12</th>\n",
       "      <td>50257</td>\n",
       "      <td>70514.0</td>\n",
       "      <td>10990000,00</td>\n",
       "      <td>03.00</td>\n",
       "      <td>1000000.0</td>\n",
       "      <td>9990000.0</td>\n",
       "    </tr>\n",
       "    <tr>\n",
       "      <th>13</th>\n",
       "      <td>117401</td>\n",
       "      <td>167147.0</td>\n",
       "      <td>10147417,00</td>\n",
       "      <td>02.00</td>\n",
       "      <td>157417.0</td>\n",
       "      <td>9990000.0</td>\n",
       "    </tr>\n",
       "    <tr>\n",
       "      <th>14</th>\n",
       "      <td>258633</td>\n",
       "      <td>375032.0</td>\n",
       "      <td>10033640,00</td>\n",
       "      <td>02.00</td>\n",
       "      <td>43640.0</td>\n",
       "      <td>9990000.0</td>\n",
       "    </tr>\n",
       "    <tr>\n",
       "      <th>15</th>\n",
       "      <td>80083</td>\n",
       "      <td>113379.0</td>\n",
       "      <td>371188,00</td>\n",
       "      <td>03.00</td>\n",
       "      <td>271297.0</td>\n",
       "      <td>99891.0</td>\n",
       "    </tr>\n",
       "    <tr>\n",
       "      <th>16</th>\n",
       "      <td>94655</td>\n",
       "      <td>134332.0</td>\n",
       "      <td>27515307,00</td>\n",
       "      <td>06.00</td>\n",
       "      <td>17526464.0</td>\n",
       "      <td>9988843.0</td>\n",
       "    </tr>\n",
       "    <tr>\n",
       "      <th>17</th>\n",
       "      <td>33982</td>\n",
       "      <td>47583.0</td>\n",
       "      <td>19926799,00</td>\n",
       "      <td>02.00</td>\n",
       "      <td>9938499.0</td>\n",
       "      <td>9988300.0</td>\n",
       "    </tr>\n",
       "    <tr>\n",
       "      <th>18</th>\n",
       "      <td>26625</td>\n",
       "      <td>37255.0</td>\n",
       "      <td>331032921,00</td>\n",
       "      <td>14.00</td>\n",
       "      <td>231158221.0</td>\n",
       "      <td>99874700.0</td>\n",
       "    </tr>\n",
       "    <tr>\n",
       "      <th>19</th>\n",
       "      <td>6175</td>\n",
       "      <td>8944.00.00</td>\n",
       "      <td>1034386189,00</td>\n",
       "      <td>25.00.00</td>\n",
       "      <td>35830025.0</td>\n",
       "      <td>998556164.0</td>\n",
       "    </tr>\n",
       "    <tr>\n",
       "      <th>20</th>\n",
       "      <td>157867</td>\n",
       "      <td>226237.0</td>\n",
       "      <td>391243900,00</td>\n",
       "      <td>02.00</td>\n",
       "      <td>291400000.0</td>\n",
       "      <td>99843900.0</td>\n",
       "    </tr>\n",
       "    <tr>\n",
       "      <th>21</th>\n",
       "      <td>275713</td>\n",
       "      <td>400519.0</td>\n",
       "      <td>19983800,00</td>\n",
       "      <td>02.00</td>\n",
       "      <td>10000000.0</td>\n",
       "      <td>9983800.0</td>\n",
       "    </tr>\n",
       "    <tr>\n",
       "      <th>22</th>\n",
       "      <td>309</td>\n",
       "      <td>932.00.00</td>\n",
       "      <td>3734412878,00</td>\n",
       "      <td>53.00.00</td>\n",
       "      <td>3634616491.0</td>\n",
       "      <td>99796387.0</td>\n",
       "    </tr>\n",
       "    <tr>\n",
       "      <th>23</th>\n",
       "      <td>54403</td>\n",
       "      <td>76470.0</td>\n",
       "      <td>31310817,00</td>\n",
       "      <td>06.00</td>\n",
       "      <td>21331332.0</td>\n",
       "      <td>9979485.0</td>\n",
       "    </tr>\n",
       "    <tr>\n",
       "      <th>24</th>\n",
       "      <td>15857</td>\n",
       "      <td>22154.0</td>\n",
       "      <td>111800000,00</td>\n",
       "      <td>02.00</td>\n",
       "      <td>12010000.0</td>\n",
       "      <td>99790000.0</td>\n",
       "    </tr>\n",
       "    <tr>\n",
       "      <th>25</th>\n",
       "      <td>13667</td>\n",
       "      <td>19164.0</td>\n",
       "      <td>1791888989,00</td>\n",
       "      <td>15.00</td>\n",
       "      <td>794148478.0</td>\n",
       "      <td>997740511.0</td>\n",
       "    </tr>\n",
       "    <tr>\n",
       "      <th>26</th>\n",
       "      <td>134404</td>\n",
       "      <td>191997.0</td>\n",
       "      <td>1331499215,00</td>\n",
       "      <td>02.00</td>\n",
       "      <td>333882750.0</td>\n",
       "      <td>997616465.0</td>\n",
       "    </tr>\n",
       "    <tr>\n",
       "      <th>27</th>\n",
       "      <td>230328</td>\n",
       "      <td>333198.0</td>\n",
       "      <td>12223174,00</td>\n",
       "      <td>02.00</td>\n",
       "      <td>2247191.0</td>\n",
       "      <td>9975983.0</td>\n",
       "    </tr>\n",
       "    <tr>\n",
       "      <th>28</th>\n",
       "      <td>92571</td>\n",
       "      <td>131347.0</td>\n",
       "      <td>21973872,00</td>\n",
       "      <td>02.00</td>\n",
       "      <td>12000784.0</td>\n",
       "      <td>9973088.0</td>\n",
       "    </tr>\n",
       "    <tr>\n",
       "      <th>29</th>\n",
       "      <td>29805</td>\n",
       "      <td>41733.0</td>\n",
       "      <td>12374731059,00</td>\n",
       "      <td>36.00.00</td>\n",
       "      <td>11377505119.0</td>\n",
       "      <td>997225940.0</td>\n",
       "    </tr>\n",
       "    <tr>\n",
       "      <th>...</th>\n",
       "      <td>...</td>\n",
       "      <td>...</td>\n",
       "      <td>...</td>\n",
       "      <td>...</td>\n",
       "      <td>...</td>\n",
       "      <td>...</td>\n",
       "    </tr>\n",
       "    <tr>\n",
       "      <th>16533</th>\n",
       "      <td>239516</td>\n",
       "      <td>346756.0</td>\n",
       "      <td>10125145,00</td>\n",
       "      <td>01.00</td>\n",
       "      <td>10135145.0</td>\n",
       "      <td>-10000.0</td>\n",
       "    </tr>\n",
       "    <tr>\n",
       "      <th>16534</th>\n",
       "      <td>242787</td>\n",
       "      <td>351629.0</td>\n",
       "      <td>5000010000,00</td>\n",
       "      <td>01.00</td>\n",
       "      <td>5000020000.0</td>\n",
       "      <td>-10000.0</td>\n",
       "    </tr>\n",
       "    <tr>\n",
       "      <th>16535</th>\n",
       "      <td>242896</td>\n",
       "      <td>351796.0</td>\n",
       "      <td>25250000,00</td>\n",
       "      <td>01.00</td>\n",
       "      <td>25260000.0</td>\n",
       "      <td>-10000.0</td>\n",
       "    </tr>\n",
       "    <tr>\n",
       "      <th>16536</th>\n",
       "      <td>260923</td>\n",
       "      <td>378487.0</td>\n",
       "      <td>620000,00</td>\n",
       "      <td>01.00</td>\n",
       "      <td>630000.0</td>\n",
       "      <td>-10000.0</td>\n",
       "    </tr>\n",
       "    <tr>\n",
       "      <th>16537</th>\n",
       "      <td>263398</td>\n",
       "      <td>382177.0</td>\n",
       "      <td>20971677,00</td>\n",
       "      <td>01.00</td>\n",
       "      <td>20981677.0</td>\n",
       "      <td>-10000.0</td>\n",
       "    </tr>\n",
       "    <tr>\n",
       "      <th>16538</th>\n",
       "      <td>266928</td>\n",
       "      <td>387390.0</td>\n",
       "      <td>75938300,00</td>\n",
       "      <td>01.00</td>\n",
       "      <td>75948300.0</td>\n",
       "      <td>-10000.0</td>\n",
       "    </tr>\n",
       "    <tr>\n",
       "      <th>16539</th>\n",
       "      <td>269430</td>\n",
       "      <td>391045.0</td>\n",
       "      <td>1620000,00</td>\n",
       "      <td>01.00</td>\n",
       "      <td>1630000.0</td>\n",
       "      <td>-10000.0</td>\n",
       "    </tr>\n",
       "    <tr>\n",
       "      <th>16540</th>\n",
       "      <td>273623</td>\n",
       "      <td>397324.0</td>\n",
       "      <td>654480,00</td>\n",
       "      <td>01.00</td>\n",
       "      <td>664480.0</td>\n",
       "      <td>-10000.0</td>\n",
       "    </tr>\n",
       "    <tr>\n",
       "      <th>16541</th>\n",
       "      <td>274355</td>\n",
       "      <td>398438.0</td>\n",
       "      <td>26268484,00</td>\n",
       "      <td>01.00</td>\n",
       "      <td>26278484.0</td>\n",
       "      <td>-10000.0</td>\n",
       "    </tr>\n",
       "    <tr>\n",
       "      <th>16542</th>\n",
       "      <td>275988</td>\n",
       "      <td>400921.0</td>\n",
       "      <td>4851579055,00</td>\n",
       "      <td>01.00</td>\n",
       "      <td>4851589055.0</td>\n",
       "      <td>-10000.0</td>\n",
       "    </tr>\n",
       "    <tr>\n",
       "      <th>16543</th>\n",
       "      <td>280471</td>\n",
       "      <td>407738.0</td>\n",
       "      <td>17024620,00</td>\n",
       "      <td>01.00</td>\n",
       "      <td>17034620.0</td>\n",
       "      <td>-10000.0</td>\n",
       "    </tr>\n",
       "    <tr>\n",
       "      <th>16544</th>\n",
       "      <td>281862</td>\n",
       "      <td>409850.0</td>\n",
       "      <td>7693690,00</td>\n",
       "      <td>01.00</td>\n",
       "      <td>7703690.0</td>\n",
       "      <td>-10000.0</td>\n",
       "    </tr>\n",
       "    <tr>\n",
       "      <th>16545</th>\n",
       "      <td>282588</td>\n",
       "      <td>410919.0</td>\n",
       "      <td>200231722,00</td>\n",
       "      <td>01.00</td>\n",
       "      <td>200241722.0</td>\n",
       "      <td>-10000.0</td>\n",
       "    </tr>\n",
       "    <tr>\n",
       "      <th>16546</th>\n",
       "      <td>287223</td>\n",
       "      <td>418058.0</td>\n",
       "      <td>53457,00</td>\n",
       "      <td>01.00</td>\n",
       "      <td>63457.0</td>\n",
       "      <td>-10000.0</td>\n",
       "    </tr>\n",
       "    <tr>\n",
       "      <th>16547</th>\n",
       "      <td>287414</td>\n",
       "      <td>418341.0</td>\n",
       "      <td>55922000,00</td>\n",
       "      <td>01.00</td>\n",
       "      <td>55932000.0</td>\n",
       "      <td>-10000.0</td>\n",
       "    </tr>\n",
       "    <tr>\n",
       "      <th>16548</th>\n",
       "      <td>4366</td>\n",
       "      <td>6523.00.00</td>\n",
       "      <td>8398000000,00</td>\n",
       "      <td>01.00</td>\n",
       "      <td>8398001000.0</td>\n",
       "      <td>-1000.0</td>\n",
       "    </tr>\n",
       "    <tr>\n",
       "      <th>16549</th>\n",
       "      <td>18063</td>\n",
       "      <td>25231.0</td>\n",
       "      <td>64946015970,00</td>\n",
       "      <td>01.00</td>\n",
       "      <td>64946016970.0</td>\n",
       "      <td>-1000.0</td>\n",
       "    </tr>\n",
       "    <tr>\n",
       "      <th>16550</th>\n",
       "      <td>38596</td>\n",
       "      <td>54095.0</td>\n",
       "      <td>372251000,00</td>\n",
       "      <td>01.00</td>\n",
       "      <td>372252000.0</td>\n",
       "      <td>-1000.0</td>\n",
       "    </tr>\n",
       "    <tr>\n",
       "      <th>16551</th>\n",
       "      <td>47658</td>\n",
       "      <td>66825.0</td>\n",
       "      <td>100000,00</td>\n",
       "      <td>01.00</td>\n",
       "      <td>101000.0</td>\n",
       "      <td>-1000.0</td>\n",
       "    </tr>\n",
       "    <tr>\n",
       "      <th>16552</th>\n",
       "      <td>109809</td>\n",
       "      <td>156104.0</td>\n",
       "      <td>106400,00</td>\n",
       "      <td>01.00</td>\n",
       "      <td>107400.0</td>\n",
       "      <td>-1000.0</td>\n",
       "    </tr>\n",
       "    <tr>\n",
       "      <th>16553</th>\n",
       "      <td>125553</td>\n",
       "      <td>179128.0</td>\n",
       "      <td>61000000,00</td>\n",
       "      <td>01.00</td>\n",
       "      <td>61001000.0</td>\n",
       "      <td>-1000.0</td>\n",
       "    </tr>\n",
       "    <tr>\n",
       "      <th>16554</th>\n",
       "      <td>148091</td>\n",
       "      <td>212065.0</td>\n",
       "      <td>1433419283,00</td>\n",
       "      <td>01.00</td>\n",
       "      <td>1433420283.0</td>\n",
       "      <td>-1000.0</td>\n",
       "    </tr>\n",
       "    <tr>\n",
       "      <th>16555</th>\n",
       "      <td>196626</td>\n",
       "      <td>283409.0</td>\n",
       "      <td>332925476,00</td>\n",
       "      <td>01.00</td>\n",
       "      <td>332926476.0</td>\n",
       "      <td>-1000.0</td>\n",
       "    </tr>\n",
       "    <tr>\n",
       "      <th>16556</th>\n",
       "      <td>231922</td>\n",
       "      <td>335507.0</td>\n",
       "      <td>81211574,00</td>\n",
       "      <td>01.00</td>\n",
       "      <td>81212574.0</td>\n",
       "      <td>-1000.0</td>\n",
       "    </tr>\n",
       "    <tr>\n",
       "      <th>16557</th>\n",
       "      <td>233533</td>\n",
       "      <td>337882.0</td>\n",
       "      <td>17649048,00</td>\n",
       "      <td>01.00</td>\n",
       "      <td>17650048.0</td>\n",
       "      <td>-1000.0</td>\n",
       "    </tr>\n",
       "    <tr>\n",
       "      <th>16558</th>\n",
       "      <td>252907</td>\n",
       "      <td>366515.0</td>\n",
       "      <td>33059779847,00</td>\n",
       "      <td>01.00</td>\n",
       "      <td>33059780847.0</td>\n",
       "      <td>-1000.0</td>\n",
       "    </tr>\n",
       "    <tr>\n",
       "      <th>16559</th>\n",
       "      <td>265955</td>\n",
       "      <td>385940.0</td>\n",
       "      <td>10000000,00</td>\n",
       "      <td>01.00</td>\n",
       "      <td>10001000.0</td>\n",
       "      <td>-1000.0</td>\n",
       "    </tr>\n",
       "    <tr>\n",
       "      <th>16560</th>\n",
       "      <td>58270</td>\n",
       "      <td>81951.0</td>\n",
       "      <td>35600000,00</td>\n",
       "      <td>01.00</td>\n",
       "      <td>35600100.0</td>\n",
       "      <td>-100.0</td>\n",
       "    </tr>\n",
       "    <tr>\n",
       "      <th>16561</th>\n",
       "      <td>97464</td>\n",
       "      <td>138304.0</td>\n",
       "      <td>43980,00</td>\n",
       "      <td>01.00</td>\n",
       "      <td>43990.0</td>\n",
       "      <td>-10.0</td>\n",
       "    </tr>\n",
       "    <tr>\n",
       "      <th>16562</th>\n",
       "      <td>110986</td>\n",
       "      <td>157858.0</td>\n",
       "      <td>202031460,00</td>\n",
       "      <td>01.00</td>\n",
       "      <td>202031470.0</td>\n",
       "      <td>-10.0</td>\n",
       "    </tr>\n",
       "  </tbody>\n",
       "</table>\n",
       "<p>16563 rows × 6 columns</p>\n",
       "</div>"
      ],
      "text/plain": [
       "       Unnamed: 0      userID        value_in nr_address      value_out  \\\n",
       "0          234202    338905.0   1104882393,00      02.00    104892393.0   \n",
       "1          184296    265188.0       300000,00      03.00       200001.0   \n",
       "2           64394     90780.0    108226772,00      02.00     98227566.0   \n",
       "3            8344     11857.0    249980000,00      05.00    149990000.0   \n",
       "4          231365    334728.0    379980000,00      02.00    279990000.0   \n",
       "5          226322    327284.0       227232,00      02.00       127242.0   \n",
       "6          239510    346745.0   4067920638,00      02.00   3068090638.0   \n",
       "7          272210    395146.0   6001913903,00      02.00   5002100000.0   \n",
       "8          181274    260708.0     99990000,00      02.00        10000.0   \n",
       "9          257479    373329.0      1998800,00      02.00       999400.0   \n",
       "10          41330     57943.0    214032377,00      12.00    114121499.0   \n",
       "11         271607    394294.0    100900000,00      02.00      1000000.0   \n",
       "12          50257     70514.0     10990000,00      03.00      1000000.0   \n",
       "13         117401    167147.0     10147417,00      02.00       157417.0   \n",
       "14         258633    375032.0     10033640,00      02.00        43640.0   \n",
       "15          80083    113379.0       371188,00      03.00       271297.0   \n",
       "16          94655    134332.0     27515307,00      06.00     17526464.0   \n",
       "17          33982     47583.0     19926799,00      02.00      9938499.0   \n",
       "18          26625     37255.0    331032921,00      14.00    231158221.0   \n",
       "19           6175  8944.00.00   1034386189,00   25.00.00     35830025.0   \n",
       "20         157867    226237.0    391243900,00      02.00    291400000.0   \n",
       "21         275713    400519.0     19983800,00      02.00     10000000.0   \n",
       "22            309   932.00.00   3734412878,00   53.00.00   3634616491.0   \n",
       "23          54403     76470.0     31310817,00      06.00     21331332.0   \n",
       "24          15857     22154.0    111800000,00      02.00     12010000.0   \n",
       "25          13667     19164.0   1791888989,00      15.00    794148478.0   \n",
       "26         134404    191997.0   1331499215,00      02.00    333882750.0   \n",
       "27         230328    333198.0     12223174,00      02.00      2247191.0   \n",
       "28          92571    131347.0     21973872,00      02.00     12000784.0   \n",
       "29          29805     41733.0  12374731059,00   36.00.00  11377505119.0   \n",
       "...           ...         ...             ...        ...            ...   \n",
       "16533      239516    346756.0     10125145,00      01.00     10135145.0   \n",
       "16534      242787    351629.0   5000010000,00      01.00   5000020000.0   \n",
       "16535      242896    351796.0     25250000,00      01.00     25260000.0   \n",
       "16536      260923    378487.0       620000,00      01.00       630000.0   \n",
       "16537      263398    382177.0     20971677,00      01.00     20981677.0   \n",
       "16538      266928    387390.0     75938300,00      01.00     75948300.0   \n",
       "16539      269430    391045.0      1620000,00      01.00      1630000.0   \n",
       "16540      273623    397324.0       654480,00      01.00       664480.0   \n",
       "16541      274355    398438.0     26268484,00      01.00     26278484.0   \n",
       "16542      275988    400921.0   4851579055,00      01.00   4851589055.0   \n",
       "16543      280471    407738.0     17024620,00      01.00     17034620.0   \n",
       "16544      281862    409850.0      7693690,00      01.00      7703690.0   \n",
       "16545      282588    410919.0    200231722,00      01.00    200241722.0   \n",
       "16546      287223    418058.0        53457,00      01.00        63457.0   \n",
       "16547      287414    418341.0     55922000,00      01.00     55932000.0   \n",
       "16548        4366  6523.00.00   8398000000,00      01.00   8398001000.0   \n",
       "16549       18063     25231.0  64946015970,00      01.00  64946016970.0   \n",
       "16550       38596     54095.0    372251000,00      01.00    372252000.0   \n",
       "16551       47658     66825.0       100000,00      01.00       101000.0   \n",
       "16552      109809    156104.0       106400,00      01.00       107400.0   \n",
       "16553      125553    179128.0     61000000,00      01.00     61001000.0   \n",
       "16554      148091    212065.0   1433419283,00      01.00   1433420283.0   \n",
       "16555      196626    283409.0    332925476,00      01.00    332926476.0   \n",
       "16556      231922    335507.0     81211574,00      01.00     81212574.0   \n",
       "16557      233533    337882.0     17649048,00      01.00     17650048.0   \n",
       "16558      252907    366515.0  33059779847,00      01.00  33059780847.0   \n",
       "16559      265955    385940.0     10000000,00      01.00     10001000.0   \n",
       "16560       58270     81951.0     35600000,00      01.00     35600100.0   \n",
       "16561       97464    138304.0        43980,00      01.00        43990.0   \n",
       "16562      110986    157858.0    202031460,00      01.00    202031470.0   \n",
       "\n",
       "         value_net  \n",
       "0      999990000.0  \n",
       "1          99999.0  \n",
       "2        9999206.0  \n",
       "3       99990000.0  \n",
       "4       99990000.0  \n",
       "5          99990.0  \n",
       "6      999830000.0  \n",
       "7      999813903.0  \n",
       "8       99980000.0  \n",
       "9         999400.0  \n",
       "10      99910878.0  \n",
       "11      99900000.0  \n",
       "12       9990000.0  \n",
       "13       9990000.0  \n",
       "14       9990000.0  \n",
       "15         99891.0  \n",
       "16       9988843.0  \n",
       "17       9988300.0  \n",
       "18      99874700.0  \n",
       "19     998556164.0  \n",
       "20      99843900.0  \n",
       "21       9983800.0  \n",
       "22      99796387.0  \n",
       "23       9979485.0  \n",
       "24      99790000.0  \n",
       "25     997740511.0  \n",
       "26     997616465.0  \n",
       "27       9975983.0  \n",
       "28       9973088.0  \n",
       "29     997225940.0  \n",
       "...            ...  \n",
       "16533     -10000.0  \n",
       "16534     -10000.0  \n",
       "16535     -10000.0  \n",
       "16536     -10000.0  \n",
       "16537     -10000.0  \n",
       "16538     -10000.0  \n",
       "16539     -10000.0  \n",
       "16540     -10000.0  \n",
       "16541     -10000.0  \n",
       "16542     -10000.0  \n",
       "16543     -10000.0  \n",
       "16544     -10000.0  \n",
       "16545     -10000.0  \n",
       "16546     -10000.0  \n",
       "16547     -10000.0  \n",
       "16548      -1000.0  \n",
       "16549      -1000.0  \n",
       "16550      -1000.0  \n",
       "16551      -1000.0  \n",
       "16552      -1000.0  \n",
       "16553      -1000.0  \n",
       "16554      -1000.0  \n",
       "16555      -1000.0  \n",
       "16556      -1000.0  \n",
       "16557      -1000.0  \n",
       "16558      -1000.0  \n",
       "16559      -1000.0  \n",
       "16560       -100.0  \n",
       "16561        -10.0  \n",
       "16562        -10.0  \n",
       "\n",
       "[16563 rows x 6 columns]"
      ]
     },
     "execution_count": 136,
     "metadata": {},
     "output_type": "execute_result"
    }
   ],
   "source": [
    "df = pd.read_csv(\"/Users/oliver/Dropbox/EDU/DTU/Bachelorprojekt Blockchain/Blockchain-Transaction-Classification/subset_sub500k1.csv\", sep = \";\")\n",
    "df"
   ]
  },
  {
   "cell_type": "code",
   "execution_count": 134,
   "metadata": {
    "collapsed": true
   },
   "outputs": [
    {
     "ename": "ValueError",
     "evalue": "labels ['Unnamed: 0' 'userID' 'value_net'] not contained in axis",
     "output_type": "error",
     "traceback": [
      "\u001b[0;31m---------------------------------------------------------------------------\u001b[0m",
      "\u001b[0;31mValueError\u001b[0m                                Traceback (most recent call last)",
      "\u001b[0;32m<ipython-input-134-118e70bb8832>\u001b[0m in \u001b[0;36m<module>\u001b[0;34m()\u001b[0m\n\u001b[0;32m----> 1\u001b[0;31m \u001b[0mdf\u001b[0m \u001b[0;34m=\u001b[0m \u001b[0mdf\u001b[0m\u001b[0;34m.\u001b[0m\u001b[0mdrop\u001b[0m\u001b[0;34m(\u001b[0m\u001b[0;34m[\u001b[0m\u001b[0;34m\"Unnamed: 0\"\u001b[0m\u001b[0;34m,\u001b[0m\u001b[0;34m\"userID\"\u001b[0m\u001b[0;34m,\u001b[0m\u001b[0;34m\"value_net\"\u001b[0m\u001b[0;34m]\u001b[0m\u001b[0;34m,\u001b[0m\u001b[0maxis\u001b[0m \u001b[0;34m=\u001b[0m \u001b[0;36m1\u001b[0m\u001b[0;34m)\u001b[0m\u001b[0;34m\u001b[0m\u001b[0m\n\u001b[0m\u001b[1;32m      2\u001b[0m \u001b[0mdf\u001b[0m \u001b[0;34m=\u001b[0m \u001b[0mdf\u001b[0m\u001b[0;34m.\u001b[0m\u001b[0mdrop\u001b[0m\u001b[0;34m(\u001b[0m\u001b[0;36m19\u001b[0m\u001b[0;34m)\u001b[0m \u001b[0;31m# drop row 19 (outlier)\u001b[0m\u001b[0;34m\u001b[0m\u001b[0m\n\u001b[1;32m      3\u001b[0m \u001b[0mdf\u001b[0m\u001b[0;34m\u001b[0m\u001b[0m\n",
      "\u001b[0;32m/anaconda/lib/python3.6/site-packages/pandas/core/generic.py\u001b[0m in \u001b[0;36mdrop\u001b[0;34m(self, labels, axis, level, inplace, errors)\u001b[0m\n\u001b[1;32m   1905\u001b[0m                 \u001b[0mnew_axis\u001b[0m \u001b[0;34m=\u001b[0m \u001b[0maxis\u001b[0m\u001b[0;34m.\u001b[0m\u001b[0mdrop\u001b[0m\u001b[0;34m(\u001b[0m\u001b[0mlabels\u001b[0m\u001b[0;34m,\u001b[0m \u001b[0mlevel\u001b[0m\u001b[0;34m=\u001b[0m\u001b[0mlevel\u001b[0m\u001b[0;34m,\u001b[0m \u001b[0merrors\u001b[0m\u001b[0;34m=\u001b[0m\u001b[0merrors\u001b[0m\u001b[0;34m)\u001b[0m\u001b[0;34m\u001b[0m\u001b[0m\n\u001b[1;32m   1906\u001b[0m             \u001b[0;32melse\u001b[0m\u001b[0;34m:\u001b[0m\u001b[0;34m\u001b[0m\u001b[0m\n\u001b[0;32m-> 1907\u001b[0;31m                 \u001b[0mnew_axis\u001b[0m \u001b[0;34m=\u001b[0m \u001b[0maxis\u001b[0m\u001b[0;34m.\u001b[0m\u001b[0mdrop\u001b[0m\u001b[0;34m(\u001b[0m\u001b[0mlabels\u001b[0m\u001b[0;34m,\u001b[0m \u001b[0merrors\u001b[0m\u001b[0;34m=\u001b[0m\u001b[0merrors\u001b[0m\u001b[0;34m)\u001b[0m\u001b[0;34m\u001b[0m\u001b[0m\n\u001b[0m\u001b[1;32m   1908\u001b[0m             \u001b[0mdropped\u001b[0m \u001b[0;34m=\u001b[0m \u001b[0mself\u001b[0m\u001b[0;34m.\u001b[0m\u001b[0mreindex\u001b[0m\u001b[0;34m(\u001b[0m\u001b[0;34m**\u001b[0m\u001b[0;34m{\u001b[0m\u001b[0maxis_name\u001b[0m\u001b[0;34m:\u001b[0m \u001b[0mnew_axis\u001b[0m\u001b[0;34m}\u001b[0m\u001b[0;34m)\u001b[0m\u001b[0;34m\u001b[0m\u001b[0m\n\u001b[1;32m   1909\u001b[0m             \u001b[0;32mtry\u001b[0m\u001b[0;34m:\u001b[0m\u001b[0;34m\u001b[0m\u001b[0m\n",
      "\u001b[0;32m/anaconda/lib/python3.6/site-packages/pandas/indexes/base.py\u001b[0m in \u001b[0;36mdrop\u001b[0;34m(self, labels, errors)\u001b[0m\n\u001b[1;32m   3260\u001b[0m             \u001b[0;32mif\u001b[0m \u001b[0merrors\u001b[0m \u001b[0;34m!=\u001b[0m \u001b[0;34m'ignore'\u001b[0m\u001b[0;34m:\u001b[0m\u001b[0;34m\u001b[0m\u001b[0m\n\u001b[1;32m   3261\u001b[0m                 raise ValueError('labels %s not contained in axis' %\n\u001b[0;32m-> 3262\u001b[0;31m                                  labels[mask])\n\u001b[0m\u001b[1;32m   3263\u001b[0m             \u001b[0mindexer\u001b[0m \u001b[0;34m=\u001b[0m \u001b[0mindexer\u001b[0m\u001b[0;34m[\u001b[0m\u001b[0;34m~\u001b[0m\u001b[0mmask\u001b[0m\u001b[0;34m]\u001b[0m\u001b[0;34m\u001b[0m\u001b[0m\n\u001b[1;32m   3264\u001b[0m         \u001b[0;32mreturn\u001b[0m \u001b[0mself\u001b[0m\u001b[0;34m.\u001b[0m\u001b[0mdelete\u001b[0m\u001b[0;34m(\u001b[0m\u001b[0mindexer\u001b[0m\u001b[0;34m)\u001b[0m\u001b[0;34m\u001b[0m\u001b[0m\n",
      "\u001b[0;31mValueError\u001b[0m: labels ['Unnamed: 0' 'userID' 'value_net'] not contained in axis"
     ]
    }
   ],
   "source": [
    "df = df.drop([\"Unnamed: 0\",\"userID\",\"value_net\"],axis = 1)\n",
    "df = df.drop(19) # drop row 19 (outlier)\n",
    "df"
   ]
  },
  {
   "cell_type": "code",
   "execution_count": 128,
   "metadata": {
    "collapsed": false
   },
   "outputs": [],
   "source": [
    "df = np.array(df[1:50000]) #subset\n",
    "df = tf.keras.utils.normalize(df) #normalize"
   ]
  },
  {
   "cell_type": "code",
   "execution_count": 121,
   "metadata": {
    "collapsed": false
   },
   "outputs": [
    {
     "data": {
      "text/plain": [
       "array([[4.05299144e-01, 6.51254407e-11, 9.14184119e-01],\n",
       "       [7.07106781e-01, 1.27360731e-07, 7.07106781e-01],\n",
       "       [7.07106781e-01, 7.89282549e-09, 7.07106781e-01],\n",
       "       ...,\n",
       "       [7.07106781e-01, 3.74592570e-07, 7.07106781e-01],\n",
       "       [7.07106781e-01, 3.00460171e-08, 7.07106781e-01],\n",
       "       [7.07106781e-01, 7.16238826e-06, 7.07106781e-01]])"
      ]
     },
     "execution_count": 121,
     "metadata": {},
     "output_type": "execute_result"
    }
   ],
   "source": [
    "df"
   ]
  },
  {
   "cell_type": "code",
   "execution_count": 122,
   "metadata": {
    "collapsed": true
   },
   "outputs": [],
   "source": [
    "x = np.transpose(df) #transpose"
   ]
  },
  {
   "cell_type": "markdown",
   "metadata": {},
   "source": [
    "# GMM with tensorflow "
   ]
  },
  {
   "cell_type": "code",
   "execution_count": 65,
   "metadata": {
    "collapsed": false
   },
   "outputs": [],
   "source": [
    "iterations = 200  # that should be enough to know whether this diverges\n",
    "np.random.seed(5)\n",
    "num_classes = 5"
   ]
  },
  {
   "cell_type": "code",
   "execution_count": 66,
   "metadata": {
    "collapsed": false
   },
   "outputs": [
    {
     "name": "stdout",
     "output_type": "stream",
     "text": [
      "WARNING:tensorflow:Using temporary folder as model directory: /var/folders/bk/zr49ky7x41jdyy4k9bjjcnbh0000gn/T/tmpgrbk_022\n",
      "INFO:tensorflow:Using config: {'_task_type': None, '_task_id': 0, '_cluster_spec': <tensorflow.python.training.server_lib.ClusterSpec object at 0x111107358>, '_master': '', '_num_ps_replicas': 0, '_num_worker_replicas': 0, '_environment': 'local', '_is_chief': True, '_evaluation_master': '', '_tf_config': gpu_options {\n",
      "  per_process_gpu_memory_fraction: 1.0\n",
      "}\n",
      ", '_tf_random_seed': 2, '_save_summary_steps': 100, '_save_checkpoints_secs': 600, '_log_step_count_steps': 100, '_session_config': None, '_save_checkpoints_steps': None, '_keep_checkpoint_max': 5, '_keep_checkpoint_every_n_hours': 10000, '_model_dir': '/var/folders/bk/zr49ky7x41jdyy4k9bjjcnbh0000gn/T/tmpgrbk_022'}\n"
     ]
    }
   ],
   "source": [
    "# skflow version.\n",
    "gmm = gmm_lib.GMM(num_classes,\n",
    "                  covariance_type='full',\n",
    "                  config=run_config.RunConfig(tf_random_seed=2))"
   ]
  },
  {
   "cell_type": "code",
   "execution_count": 67,
   "metadata": {
    "collapsed": true
   },
   "outputs": [],
   "source": [
    "def get_input_fn(x):\n",
    "  def input_fn():\n",
    "    return constant_op.constant(x.astype(np.float32)), None\n",
    "  return input_fn"
   ]
  },
  {
   "cell_type": "code",
   "execution_count": 68,
   "metadata": {
    "collapsed": false
   },
   "outputs": [
    {
     "name": "stdout",
     "output_type": "stream",
     "text": [
      "INFO:tensorflow:Create CheckpointSaverHook.\n",
      "INFO:tensorflow:Graph was finalized.\n",
      "INFO:tensorflow:Running local_init_op.\n",
      "INFO:tensorflow:Done running local_init_op.\n",
      "INFO:tensorflow:Saving checkpoints for 1 into /var/folders/bk/zr49ky7x41jdyy4k9bjjcnbh0000gn/T/tmpgrbk_022/model.ckpt.\n",
      "INFO:tensorflow:loss = 6.6469164, step = 1\n",
      "INFO:tensorflow:global_step/sec: 10.0495\n",
      "INFO:tensorflow:loss = 6.0341864, step = 101 (9.952 sec)\n",
      "INFO:tensorflow:Saving checkpoints for 200 into /var/folders/bk/zr49ky7x41jdyy4k9bjjcnbh0000gn/T/tmpgrbk_022/model.ckpt.\n",
      "INFO:tensorflow:Loss for final step: 6.0341864.\n"
     ]
    },
    {
     "data": {
      "text/plain": [
       "GMM(params=None)"
      ]
     },
     "execution_count": 68,
     "metadata": {},
     "output_type": "execute_result"
    }
   ],
   "source": [
    "gmm.fit(input_fn=get_input_fn(x), steps=iterations)\n",
    "#self.assertFalse(np.isnan(gmm.clusters()).any())"
   ]
  },
  {
   "cell_type": "code",
   "execution_count": 200,
   "metadata": {
    "collapsed": false
   },
   "outputs": [],
   "source": [
    "clusters = gmm.clusters()"
   ]
  },
  {
   "cell_type": "markdown",
   "metadata": {},
   "source": [
    "# PCA"
   ]
  },
  {
   "cell_type": "code",
   "execution_count": 99,
   "metadata": {
    "collapsed": false
   },
   "outputs": [
    {
     "data": {
      "text/plain": [
       "PCA(copy=True, iterated_power='auto', n_components=3, random_state=None,\n",
       "  svd_solver='auto', tol=0.0, whiten=False)"
      ]
     },
     "execution_count": 99,
     "metadata": {},
     "output_type": "execute_result"
    }
   ],
   "source": [
    "import numpy as np\n",
    "from sklearn.decomposition import PCA\n",
    "pca = PCA(n_components=3)\n",
    "pca.fit(df)"
   ]
  },
  {
   "cell_type": "code",
   "execution_count": 123,
   "metadata": {
    "collapsed": false
   },
   "outputs": [
    {
     "name": "stdout",
     "output_type": "stream",
     "text": [
      "(49999, 3)\n",
      "(49999, 2)\n"
     ]
    }
   ],
   "source": [
    "pca = PCA(n_components = 2)  # project from 64 to 2 dimensions\n",
    "projected = pca.fit_transform(df)\n",
    "print(df.data.shape)\n",
    "print(projected.shape)"
   ]
  },
  {
   "cell_type": "code",
   "execution_count": 124,
   "metadata": {
    "collapsed": false
   },
   "outputs": [
    {
     "name": "stdout",
     "output_type": "stream",
     "text": [
      "[0.97677591 0.02028261]\n"
     ]
    }
   ],
   "source": [
    "print(pca.explained_variance_ratio_)  "
   ]
  },
  {
   "cell_type": "code",
   "execution_count": 125,
   "metadata": {
    "collapsed": false
   },
   "outputs": [],
   "source": [
    "#X = pca.transform(df)"
   ]
  },
  {
   "cell_type": "code",
   "execution_count": 126,
   "metadata": {
    "collapsed": false
   },
   "outputs": [
    {
     "data": {
      "image/png": "[encoded data removed]",
      "text/plain": [
       "<matplotlib.figure.Figure at 0x1223aebe0>"
      ]
     },
     "metadata": {},
     "output_type": "display_data"
    }
   ],
   "source": [
    "plt.plot(projected[:,0],projected[:,1], 'ro')\n",
    "#plt.axis([0, 6, 0, ])\n",
    "plt.show()"
   ]
  },
  {
   "cell_type": "code",
   "execution_count": 130,
   "metadata": {
    "collapsed": false
   },
   "outputs": [
    {
     "data": {
      "image/png": "[encoded data removed]",
      "text/plain": [
       "<matplotlib.figure.Figure at 0x124264748>"
      ]
     },
     "metadata": {},
     "output_type": "display_data"
    }
   ],
   "source": [
    "plt.plot(df[:,1],df[:,2], 'ro')\n",
    "#plt.axis([0, 6, 0, ])\n",
    "plt.show()"
   ]
  },
  {
   "cell_type": "code",
   "execution_count": 178,
   "metadata": {
    "collapsed": true
   },
   "outputs": [],
   "source": [
    "import matplotlib.pyplot as plt\n",
    "from mpl_toolkits.mplot3d import Axes3D"
   ]
  },
  {
   "cell_type": "code",
   "execution_count": 163,
   "metadata": {
    "collapsed": false
   },
   "outputs": [],
   "source": [
    "fig = plt.figure(1, figsize=(4, 3))\n",
    "plt.clf()\n",
    "ax = Axes3D(fig, rect=[0, 0, .95, 1], elev=48, azim=134)"
   ]
  },
  {
   "cell_type": "code",
   "execution_count": 164,
   "metadata": {
    "collapsed": false
   },
   "outputs": [
    {
     "data": {
      "text/plain": [
       "<mpl_toolkits.mplot3d.art3d.Path3DCollection at 0x123b17be0>"
      ]
     },
     "execution_count": 164,
     "metadata": {},
     "output_type": "execute_result"
    }
   ],
   "source": [
    "ax.scatter(X[:, 0], X[:, 1],X[:,2])\n",
    "plt.show()"
   ]
  },
  {
   "cell_type": "code",
   "execution_count": 30,
   "metadata": {
    "collapsed": false
   },
   "outputs": [
    {
     "data": {
      "text/plain": [
       "6"
      ]
     },
     "execution_count": 30,
     "metadata": {},
     "output_type": "execute_result"
    }
   ],
   "source": [
    "len(x)"
   ]
  },
  {
   "cell_type": "code",
   "execution_count": 86,
   "metadata": {
    "collapsed": false
   },
   "outputs": [
    {
     "data": {
      "text/plain": [
       "array([[ 5.80422225e-11,  1.52070623e-08,  3.61217718e-01,\n",
       "         5.80422225e-11,  8.14754994e-01, -4.53537276e-01],\n",
       "       [ 2.54721463e-07,  3.54062833e-05,  7.07106781e-01,\n",
       "         1.27360731e-07,  7.07106781e-01,  0.00000000e+00],\n",
       "       [ 4.73569529e-09,  4.43576792e-07,  7.07106781e-01,\n",
       "         7.89282549e-09,  7.07106781e-01,  0.00000000e+00],\n",
       "       ...,\n",
       "       [ 3.61204567e-05,  8.95380334e-05,  7.07106778e-01,\n",
       "         7.26769752e-08,  7.07106778e-01,  0.00000000e+00],\n",
       "       [ 2.31588832e-06,  5.73391626e-06,  7.07106781e-01,\n",
       "         4.65037815e-09,  7.07106781e-01,  0.00000000e+00],\n",
       "       [ 3.52846128e-04,  8.72569381e-04,  7.07106468e-01,\n",
       "         7.07106468e-07,  7.07106468e-01,  0.00000000e+00]])"
      ]
     },
     "execution_count": 86,
     "metadata": {},
     "output_type": "execute_result"
    }
   ],
   "source": [
    "df"
   ]
  },
  {
   "cell_type": "code",
   "execution_count": null,
   "metadata": {
    "collapsed": true
   },
   "outputs": [],
   "source": []
  }
 ],
 "metadata": {
  "kernelspec": {
   "display_name": "Python 3",
   "language": "python",
   "name": "python3"
  },
  "language_info": {
   "codemirror_mode": {
    "name": "ipython",
    "version": 3
   },
   "file_extension": ".py",
   "mimetype": "text/x-python",
   "name": "python",
   "nbconvert_exporter": "python",
   "pygments_lexer": "ipython3",
   "version": "3.6.0"
  }
 },
 "nbformat": 4,
 "nbformat_minor": 2
}
