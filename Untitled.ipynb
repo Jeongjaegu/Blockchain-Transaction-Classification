{
 "cells": [
  {
   "cell_type": "code",
   "execution_count": 7,
   "metadata": {
    "collapsed": true
   },
   "outputs": [],
   "source": [
    "from blockchain import blockexplorer"
   ]
  },
  {
   "cell_type": "code",
   "execution_count": 8,
   "metadata": {
    "collapsed": true
   },
   "outputs": [],
   "source": [
    "block = blockexplorer.get_block('000000000000000016f9a2c3e0f4c1245ff24856a79c34806969f5084f410680')"
   ]
  },
  {
   "cell_type": "code",
   "execution_count": 30,
   "metadata": {
    "collapsed": false
   },
   "outputs": [],
   "source": [
    "data = block.__dict__"
   ]
  },
  {
   "cell_type": "code",
   "execution_count": 77,
   "metadata": {
    "collapsed": false,
    "scrolled": true
   },
   "outputs": [
    {
     "data": {
      "text/plain": [
       "{'block_height': 319950,\n",
       " 'double_spend': False,\n",
       " 'hash': '00e115104ca68ba9567be628fe0249a94ff3aad486c8052783fa3906bf005442',\n",
       " 'inputs': [<blockchain.blockexplorer.Input at 0x107e8e0f0>,\n",
       "  <blockchain.blockexplorer.Input at 0x107e8e128>,\n",
       "  <blockchain.blockexplorer.Input at 0x107e8e160>,\n",
       "  <blockchain.blockexplorer.Input at 0x107e8e198>,\n",
       "  <blockchain.blockexplorer.Input at 0x107e8e1d0>],\n",
       " 'outputs': [<blockchain.blockexplorer.Output at 0x107e8e208>],\n",
       " 'relayed_by': '46.28.204.123',\n",
       " 'size': 783,\n",
       " 'time': 1410326228,\n",
       " 'tx_index': 64178213,\n",
       " 'version': 1}"
      ]
     },
     "execution_count": 77,
     "metadata": {},
     "output_type": "execute_result"
    }
   ],
   "source": [
    "data[\"transactions\"][6].__dict__"
   ]
  },
  {
   "cell_type": "code",
   "execution_count": 71,
   "metadata": {
    "collapsed": false
   },
   "outputs": [
    {
     "data": {
      "text/plain": [
       "{'address': '1JYmErjLQQtC7eoXpQAzqGtpK9ooHPskbc',\n",
       " 'n': 1,\n",
       " 'script': '76a914c07bf6411e64c7279881a98823be0be28dafc3da88ac',\n",
       " 'script_sig': '483045022100bb63a053c8f72a9e1243daa0d4d8d6c9cafb256ef84ee0db904d5960901d9e9502200e757df66e5dfe91da1859ea9070d3a345d92b4c2615822c6eb81e9eacd989d401210325c58608a2bd0bd9c1ae2dd0be74a4a913bf26c115ad0247cc656e4eab6d4188',\n",
       " 'sequence': 4294967295,\n",
       " 'tx_index': 63817270,\n",
       " 'type': 0,\n",
       " 'value': 2000000000}"
      ]
     },
     "execution_count": 71,
     "metadata": {},
     "output_type": "execute_result"
    }
   ],
   "source": [
    "data[\"transactions\"][6].__dict__[\"inputs\"][0].__dict__"
   ]
  },
  {
   "cell_type": "code",
   "execution_count": 96,
   "metadata": {
    "collapsed": false
   },
   "outputs": [],
   "source": [
    "block = blockexplorer.get_blocks(time = \"1517927947286\")"
   ]
  },
  {
   "cell_type": "markdown",
   "metadata": {
    "collapsed": true
   },
   "source": [
    "## Loading Bitcoin balances csv file\n",
    "**Be careful, not to print entire csv**\n",
    "\n",
    "**As of block 498754 (today 07/02/18 - block 508113)**\n"
   ]
  },
  {
   "cell_type": "code",
   "execution_count": 3,
   "metadata": {
    "collapsed": true
   },
   "outputs": [],
   "source": [
    "import pandas as pd"
   ]
  },
  {
   "cell_type": "code",
   "execution_count": 13,
   "metadata": {
    "collapsed": false
   },
   "outputs": [],
   "source": [
    "df = pd.read_csv('balances_498754.csv',sep = \";\", header=None)"
   ]
  },
  {
   "cell_type": "code",
   "execution_count": 54,
   "metadata": {
    "collapsed": false
   },
   "outputs": [],
   "source": [
    "df['BTC'] = df.apply(lambda row: row[1]*0.00000001, axis = 1)"
   ]
  },
  {
   "cell_type": "code",
   "execution_count": 14,
   "metadata": {
    "collapsed": false,
    "scrolled": true
   },
   "outputs": [
    {
     "data": {
      "text/html": [
       "<div>\n",
       "<table border=\"1\" class=\"dataframe\">\n",
       "  <thead>\n",
       "    <tr style=\"text-align: right;\">\n",
       "      <th></th>\n",
       "      <th>0</th>\n",
       "      <th>1</th>\n",
       "    </tr>\n",
       "  </thead>\n",
       "  <tbody>\n",
       "    <tr>\n",
       "      <th>0</th>\n",
       "      <td>1CG4LbEXoBus2egJS8SBh3DDPTrSykzFMG</td>\n",
       "      <td>942800</td>\n",
       "    </tr>\n",
       "    <tr>\n",
       "      <th>1</th>\n",
       "      <td>1Jt1Yng68p6Pd3pYWc1W1nxWSZSx9PZNto</td>\n",
       "      <td>2100390</td>\n",
       "    </tr>\n",
       "    <tr>\n",
       "      <th>2</th>\n",
       "      <td>32i3fvUTZkq2zeHBuosYDkiSCyMDhP62eo</td>\n",
       "      <td>9592347</td>\n",
       "    </tr>\n",
       "    <tr>\n",
       "      <th>3</th>\n",
       "      <td>34LcFLg5V65bAqytFgUoXt5H1EBHbpC8My</td>\n",
       "      <td>10000000</td>\n",
       "    </tr>\n",
       "    <tr>\n",
       "      <th>4</th>\n",
       "      <td>1KaPHfvVWNZADup3Yc26SfVdkTDvvHySVX</td>\n",
       "      <td>65279</td>\n",
       "    </tr>\n",
       "  </tbody>\n",
       "</table>\n",
       "</div>"
      ],
      "text/plain": [
       "                                    0         1\n",
       "0  1CG4LbEXoBus2egJS8SBh3DDPTrSykzFMG    942800\n",
       "1  1Jt1Yng68p6Pd3pYWc1W1nxWSZSx9PZNto   2100390\n",
       "2  32i3fvUTZkq2zeHBuosYDkiSCyMDhP62eo   9592347\n",
       "3  34LcFLg5V65bAqytFgUoXt5H1EBHbpC8My  10000000\n",
       "4  1KaPHfvVWNZADup3Yc26SfVdkTDvvHySVX     65279"
      ]
     },
     "execution_count": 14,
     "metadata": {},
     "output_type": "execute_result"
    }
   ],
   "source": [
    "df.head()"
   ]
  },
  {
   "cell_type": "code",
   "execution_count": 15,
   "metadata": {
    "collapsed": false
   },
   "outputs": [],
   "source": [
    "dfsub1 = df[:][1:40]\n"
   ]
  },
  {
   "cell_type": "code",
   "execution_count": null,
   "metadata": {
    "collapsed": true
   },
   "outputs": [],
   "source": [
    "sample['PR'] = sample['PR'].apply(lambda x: np.nan if x < 90 else x)"
   ]
  },
  {
   "cell_type": "code",
   "execution_count": 16,
   "metadata": {
    "collapsed": false
   },
   "outputs": [],
   "source": [
    "dfsub1['BTC'] = dfsub1.apply(lambda row: row[1]*0.00000001, axis = 1)"
   ]
  },
  {
   "cell_type": "code",
   "execution_count": 18,
   "metadata": {
    "collapsed": false
   },
   "outputs": [
    {
     "data": {
      "text/html": [
       "<div>\n",
       "<table border=\"1\" class=\"dataframe\">\n",
       "  <thead>\n",
       "    <tr style=\"text-align: right;\">\n",
       "      <th></th>\n",
       "      <th>0</th>\n",
       "      <th>1</th>\n",
       "      <th>BTC</th>\n",
       "    </tr>\n",
       "  </thead>\n",
       "  <tbody>\n",
       "    <tr>\n",
       "      <th>1</th>\n",
       "      <td>1Jt1Yng68p6Pd3pYWc1W1nxWSZSx9PZNto</td>\n",
       "      <td>2100390</td>\n",
       "      <td>0.021004</td>\n",
       "    </tr>\n",
       "    <tr>\n",
       "      <th>2</th>\n",
       "      <td>32i3fvUTZkq2zeHBuosYDkiSCyMDhP62eo</td>\n",
       "      <td>9592347</td>\n",
       "      <td>0.095923</td>\n",
       "    </tr>\n",
       "    <tr>\n",
       "      <th>3</th>\n",
       "      <td>34LcFLg5V65bAqytFgUoXt5H1EBHbpC8My</td>\n",
       "      <td>10000000</td>\n",
       "      <td>0.100000</td>\n",
       "    </tr>\n",
       "    <tr>\n",
       "      <th>4</th>\n",
       "      <td>1KaPHfvVWNZADup3Yc26SfVdkTDvvHySVX</td>\n",
       "      <td>65279</td>\n",
       "      <td>0.000653</td>\n",
       "    </tr>\n",
       "    <tr>\n",
       "      <th>5</th>\n",
       "      <td>1Lcd4mL7Zt53QTyR4wFJSksuyxCtfpTtws</td>\n",
       "      <td>2789</td>\n",
       "      <td>0.000028</td>\n",
       "    </tr>\n",
       "  </tbody>\n",
       "</table>\n",
       "</div>"
      ],
      "text/plain": [
       "                                    0         1       BTC\n",
       "1  1Jt1Yng68p6Pd3pYWc1W1nxWSZSx9PZNto   2100390  0.021004\n",
       "2  32i3fvUTZkq2zeHBuosYDkiSCyMDhP62eo   9592347  0.095923\n",
       "3  34LcFLg5V65bAqytFgUoXt5H1EBHbpC8My  10000000  0.100000\n",
       "4  1KaPHfvVWNZADup3Yc26SfVdkTDvvHySVX     65279  0.000653\n",
       "5  1Lcd4mL7Zt53QTyR4wFJSksuyxCtfpTtws      2789  0.000028"
      ]
     },
     "execution_count": 18,
     "metadata": {},
     "output_type": "execute_result"
    }
   ],
   "source": [
    "dfsub1.iloc[0:5,0:3]"
   ]
  },
  {
   "cell_type": "code",
   "execution_count": 4,
   "metadata": {
    "collapsed": false
   },
   "outputs": [],
   "source": [
    "tx_out = pd.read_csv('tx_out.csv',sep = \";\", header=None)\n",
    "tx_out.columns = [\"txid\",\"indexOut\",\"value\",\"scriptPubKey\",\"address\"]"
   ]
  },
  {
   "cell_type": "code",
   "execution_count": 23,
   "metadata": {
    "collapsed": false
   },
   "outputs": [],
   "source": [
    "#tx_out.iloc[0:10,0:5]"
   ]
  },
  {
   "cell_type": "code",
   "execution_count": 24,
   "metadata": {
    "collapsed": false
   },
   "outputs": [
    {
     "data": {
      "text/html": [
       "<div>\n",
       "<table border=\"1\" class=\"dataframe\">\n",
       "  <thead>\n",
       "    <tr style=\"text-align: right;\">\n",
       "      <th></th>\n",
       "      <th>txid</th>\n",
       "      <th>indexOut</th>\n",
       "      <th>value</th>\n",
       "      <th>scriptPubKey</th>\n",
       "      <th>address</th>\n",
       "    </tr>\n",
       "  </thead>\n",
       "  <tbody>\n",
       "    <tr>\n",
       "      <th>0</th>\n",
       "      <td>4a5e1e4baab89f3a32518a88c31bc87f618f76673e2cc7...</td>\n",
       "      <td>0</td>\n",
       "      <td>5000000000</td>\n",
       "      <td>4104678afdb0fe5548271967f1a67130b7105cd6a828e0...</td>\n",
       "      <td>1A1zP1eP5QGefi2DMPTfTL5SLmv7DivfNa</td>\n",
       "    </tr>\n",
       "    <tr>\n",
       "      <th>1</th>\n",
       "      <td>0e3e2357e806b6cdb1f70b54c3a3a17b6714ee1f0e68be...</td>\n",
       "      <td>0</td>\n",
       "      <td>5000000000</td>\n",
       "      <td>410496b538e853519c726a2c91e61ec11600ae1390813a...</td>\n",
       "      <td>12c6DSiU4Rq3P4ZxziKxzrL5LmMBrzjrJX</td>\n",
       "    </tr>\n",
       "    <tr>\n",
       "      <th>2</th>\n",
       "      <td>9b0fc92260312ce44e74ef369f5c66bbb85848f2eddd5a...</td>\n",
       "      <td>0</td>\n",
       "      <td>5000000000</td>\n",
       "      <td>41047211a824f55b505228e4c3d5194c1fcfaa15a456ab...</td>\n",
       "      <td>1HLoD9E4SDFFPDiYfNYnkBLQ85Y51J3Zb1</td>\n",
       "    </tr>\n",
       "    <tr>\n",
       "      <th>3</th>\n",
       "      <td>999e1c837c76a1b7fbb7e57baf87b309960f5ffefbf2a9...</td>\n",
       "      <td>0</td>\n",
       "      <td>5000000000</td>\n",
       "      <td>410494b9d3e76c5b1629ecf97fff95d7a4bbdac87cc260...</td>\n",
       "      <td>1FvzCLoTPGANNjWoUo6jUGuAG3wg1w4YjR</td>\n",
       "    </tr>\n",
       "    <tr>\n",
       "      <th>4</th>\n",
       "      <td>df2b060fa2e5e9c8ed5eaf6a45c13753ec8c63282b2688...</td>\n",
       "      <td>0</td>\n",
       "      <td>5000000000</td>\n",
       "      <td>4104184f32b212815c6e522e66686324030ff7e5bf08ef...</td>\n",
       "      <td>15ubicBBWFnvoZLT7GiU2qxjRaKJPdkDMG</td>\n",
       "    </tr>\n",
       "  </tbody>\n",
       "</table>\n",
       "</div>"
      ],
      "text/plain": [
       "                                                txid  indexOut       value  \\\n",
       "0  4a5e1e4baab89f3a32518a88c31bc87f618f76673e2cc7...         0  5000000000   \n",
       "1  0e3e2357e806b6cdb1f70b54c3a3a17b6714ee1f0e68be...         0  5000000000   \n",
       "2  9b0fc92260312ce44e74ef369f5c66bbb85848f2eddd5a...         0  5000000000   \n",
       "3  999e1c837c76a1b7fbb7e57baf87b309960f5ffefbf2a9...         0  5000000000   \n",
       "4  df2b060fa2e5e9c8ed5eaf6a45c13753ec8c63282b2688...         0  5000000000   \n",
       "\n",
       "                                        scriptPubKey  \\\n",
       "0  4104678afdb0fe5548271967f1a67130b7105cd6a828e0...   \n",
       "1  410496b538e853519c726a2c91e61ec11600ae1390813a...   \n",
       "2  41047211a824f55b505228e4c3d5194c1fcfaa15a456ab...   \n",
       "3  410494b9d3e76c5b1629ecf97fff95d7a4bbdac87cc260...   \n",
       "4  4104184f32b212815c6e522e66686324030ff7e5bf08ef...   \n",
       "\n",
       "                              address  \n",
       "0  1A1zP1eP5QGefi2DMPTfTL5SLmv7DivfNa  \n",
       "1  12c6DSiU4Rq3P4ZxziKxzrL5LmMBrzjrJX  \n",
       "2  1HLoD9E4SDFFPDiYfNYnkBLQ85Y51J3Zb1  \n",
       "3  1FvzCLoTPGANNjWoUo6jUGuAG3wg1w4YjR  \n",
       "4  15ubicBBWFnvoZLT7GiU2qxjRaKJPdkDMG  "
      ]
     },
     "execution_count": 24,
     "metadata": {},
     "output_type": "execute_result"
    }
   ],
   "source": [
    "tx_out.head()"
   ]
  },
  {
   "cell_type": "code",
   "execution_count": 8,
   "metadata": {
    "collapsed": false
   },
   "outputs": [],
   "source": [
    "transactions = pd.read_csv('transactions.csv',sep = \";\", header=None)\n",
    "transactions.columns = [\"txid\",\"hashBlock\",\"version\",\"lockTime\"]"
   ]
  },
  {
   "cell_type": "code",
   "execution_count": 9,
   "metadata": {
    "collapsed": false
   },
   "outputs": [
    {
     "data": {
      "text/html": [
       "<div>\n",
       "<table border=\"1\" class=\"dataframe\">\n",
       "  <thead>\n",
       "    <tr style=\"text-align: right;\">\n",
       "      <th></th>\n",
       "      <th>txid</th>\n",
       "      <th>hashBlock</th>\n",
       "      <th>version</th>\n",
       "      <th>lockTime</th>\n",
       "    </tr>\n",
       "  </thead>\n",
       "  <tbody>\n",
       "    <tr>\n",
       "      <th>0</th>\n",
       "      <td>4a5e1e4baab89f3a32518a88c31bc87f618f76673e2cc7...</td>\n",
       "      <td>000000000019d6689c085ae165831e934ff763ae46a2a6...</td>\n",
       "      <td>1</td>\n",
       "      <td>0</td>\n",
       "    </tr>\n",
       "    <tr>\n",
       "      <th>1</th>\n",
       "      <td>0e3e2357e806b6cdb1f70b54c3a3a17b6714ee1f0e68be...</td>\n",
       "      <td>00000000839a8e6886ab5951d76f411475428afc90947e...</td>\n",
       "      <td>1</td>\n",
       "      <td>0</td>\n",
       "    </tr>\n",
       "    <tr>\n",
       "      <th>2</th>\n",
       "      <td>9b0fc92260312ce44e74ef369f5c66bbb85848f2eddd5a...</td>\n",
       "      <td>000000006a625f06636b8bb6ac7b960a8d03705d1ace08...</td>\n",
       "      <td>1</td>\n",
       "      <td>0</td>\n",
       "    </tr>\n",
       "    <tr>\n",
       "      <th>3</th>\n",
       "      <td>999e1c837c76a1b7fbb7e57baf87b309960f5ffefbf2a9...</td>\n",
       "      <td>0000000082b5015589a3fdf2d4baff403e6f0be035a5d9...</td>\n",
       "      <td>1</td>\n",
       "      <td>0</td>\n",
       "    </tr>\n",
       "    <tr>\n",
       "      <th>4</th>\n",
       "      <td>df2b060fa2e5e9c8ed5eaf6a45c13753ec8c63282b2688...</td>\n",
       "      <td>000000004ebadb55ee9096c9a2f8880e09da59c0d68b1c...</td>\n",
       "      <td>1</td>\n",
       "      <td>0</td>\n",
       "    </tr>\n",
       "  </tbody>\n",
       "</table>\n",
       "</div>"
      ],
      "text/plain": [
       "                                                txid  \\\n",
       "0  4a5e1e4baab89f3a32518a88c31bc87f618f76673e2cc7...   \n",
       "1  0e3e2357e806b6cdb1f70b54c3a3a17b6714ee1f0e68be...   \n",
       "2  9b0fc92260312ce44e74ef369f5c66bbb85848f2eddd5a...   \n",
       "3  999e1c837c76a1b7fbb7e57baf87b309960f5ffefbf2a9...   \n",
       "4  df2b060fa2e5e9c8ed5eaf6a45c13753ec8c63282b2688...   \n",
       "\n",
       "                                           hashBlock  version  lockTime  \n",
       "0  000000000019d6689c085ae165831e934ff763ae46a2a6...        1         0  \n",
       "1  00000000839a8e6886ab5951d76f411475428afc90947e...        1         0  \n",
       "2  000000006a625f06636b8bb6ac7b960a8d03705d1ace08...        1         0  \n",
       "3  0000000082b5015589a3fdf2d4baff403e6f0be035a5d9...        1         0  \n",
       "4  000000004ebadb55ee9096c9a2f8880e09da59c0d68b1c...        1         0  "
      ]
     },
     "execution_count": 9,
     "metadata": {},
     "output_type": "execute_result"
    }
   ],
   "source": [
    "transactions.head()"
   ]
  },
  {
   "cell_type": "code",
   "execution_count": 11,
   "metadata": {
    "collapsed": false
   },
   "outputs": [],
   "source": [
    "blocks = pd.read_csv('blocks.csv',sep = \";\", header=None)\n",
    "blocks.columns = [\"block_hash\", \"height\", \"version\", \"blocksize\", \"hashPrev\", \"hashMerkleRoot\", \"nTime\", \"nBits\", \"nNonce\"]"
   ]
  },
  {
   "cell_type": "code",
   "execution_count": 13,
   "metadata": {
    "collapsed": false
   },
   "outputs": [
    {
     "data": {
      "text/html": [
       "<div>\n",
       "<table border=\"1\" class=\"dataframe\">\n",
       "  <thead>\n",
       "    <tr style=\"text-align: right;\">\n",
       "      <th></th>\n",
       "      <th>block_hash</th>\n",
       "      <th>height</th>\n",
       "      <th>version</th>\n",
       "      <th>blocksize</th>\n",
       "      <th>hashPrev</th>\n",
       "      <th>hashMerkleRoot</th>\n",
       "      <th>nTime</th>\n",
       "      <th>nBits</th>\n",
       "      <th>nNonce</th>\n",
       "    </tr>\n",
       "  </thead>\n",
       "  <tbody>\n",
       "    <tr>\n",
       "      <th>0</th>\n",
       "      <td>000000000019d6689c085ae165831e934ff763ae46a2a6...</td>\n",
       "      <td>0</td>\n",
       "      <td>1</td>\n",
       "      <td>285</td>\n",
       "      <td>0000000000000000000000000000000000000000000000...</td>\n",
       "      <td>4a5e1e4baab89f3a32518a88c31bc87f618f76673e2cc7...</td>\n",
       "      <td>1231006505</td>\n",
       "      <td>486604799</td>\n",
       "      <td>2083236893</td>\n",
       "    </tr>\n",
       "    <tr>\n",
       "      <th>1</th>\n",
       "      <td>00000000839a8e6886ab5951d76f411475428afc90947e...</td>\n",
       "      <td>1</td>\n",
       "      <td>1</td>\n",
       "      <td>215</td>\n",
       "      <td>000000000019d6689c085ae165831e934ff763ae46a2a6...</td>\n",
       "      <td>0e3e2357e806b6cdb1f70b54c3a3a17b6714ee1f0e68be...</td>\n",
       "      <td>1231469665</td>\n",
       "      <td>486604799</td>\n",
       "      <td>2573394689</td>\n",
       "    </tr>\n",
       "    <tr>\n",
       "      <th>2</th>\n",
       "      <td>000000006a625f06636b8bb6ac7b960a8d03705d1ace08...</td>\n",
       "      <td>2</td>\n",
       "      <td>1</td>\n",
       "      <td>215</td>\n",
       "      <td>00000000839a8e6886ab5951d76f411475428afc90947e...</td>\n",
       "      <td>9b0fc92260312ce44e74ef369f5c66bbb85848f2eddd5a...</td>\n",
       "      <td>1231469744</td>\n",
       "      <td>486604799</td>\n",
       "      <td>1639830024</td>\n",
       "    </tr>\n",
       "    <tr>\n",
       "      <th>3</th>\n",
       "      <td>0000000082b5015589a3fdf2d4baff403e6f0be035a5d9...</td>\n",
       "      <td>3</td>\n",
       "      <td>1</td>\n",
       "      <td>215</td>\n",
       "      <td>000000006a625f06636b8bb6ac7b960a8d03705d1ace08...</td>\n",
       "      <td>999e1c837c76a1b7fbb7e57baf87b309960f5ffefbf2a9...</td>\n",
       "      <td>1231470173</td>\n",
       "      <td>486604799</td>\n",
       "      <td>1844305925</td>\n",
       "    </tr>\n",
       "    <tr>\n",
       "      <th>4</th>\n",
       "      <td>000000004ebadb55ee9096c9a2f8880e09da59c0d68b1c...</td>\n",
       "      <td>4</td>\n",
       "      <td>1</td>\n",
       "      <td>215</td>\n",
       "      <td>0000000082b5015589a3fdf2d4baff403e6f0be035a5d9...</td>\n",
       "      <td>df2b060fa2e5e9c8ed5eaf6a45c13753ec8c63282b2688...</td>\n",
       "      <td>1231470988</td>\n",
       "      <td>486604799</td>\n",
       "      <td>2850094635</td>\n",
       "    </tr>\n",
       "  </tbody>\n",
       "</table>\n",
       "</div>"
      ],
      "text/plain": [
       "                                          block_hash  height  version  \\\n",
       "0  000000000019d6689c085ae165831e934ff763ae46a2a6...       0        1   \n",
       "1  00000000839a8e6886ab5951d76f411475428afc90947e...       1        1   \n",
       "2  000000006a625f06636b8bb6ac7b960a8d03705d1ace08...       2        1   \n",
       "3  0000000082b5015589a3fdf2d4baff403e6f0be035a5d9...       3        1   \n",
       "4  000000004ebadb55ee9096c9a2f8880e09da59c0d68b1c...       4        1   \n",
       "\n",
       "   blocksize                                           hashPrev  \\\n",
       "0        285  0000000000000000000000000000000000000000000000...   \n",
       "1        215  000000000019d6689c085ae165831e934ff763ae46a2a6...   \n",
       "2        215  00000000839a8e6886ab5951d76f411475428afc90947e...   \n",
       "3        215  000000006a625f06636b8bb6ac7b960a8d03705d1ace08...   \n",
       "4        215  0000000082b5015589a3fdf2d4baff403e6f0be035a5d9...   \n",
       "\n",
       "                                      hashMerkleRoot       nTime      nBits  \\\n",
       "0  4a5e1e4baab89f3a32518a88c31bc87f618f76673e2cc7...  1231006505  486604799   \n",
       "1  0e3e2357e806b6cdb1f70b54c3a3a17b6714ee1f0e68be...  1231469665  486604799   \n",
       "2  9b0fc92260312ce44e74ef369f5c66bbb85848f2eddd5a...  1231469744  486604799   \n",
       "3  999e1c837c76a1b7fbb7e57baf87b309960f5ffefbf2a9...  1231470173  486604799   \n",
       "4  df2b060fa2e5e9c8ed5eaf6a45c13753ec8c63282b2688...  1231470988  486604799   \n",
       "\n",
       "       nNonce  \n",
       "0  2083236893  \n",
       "1  2573394689  \n",
       "2  1639830024  \n",
       "3  1844305925  \n",
       "4  2850094635  "
      ]
     },
     "execution_count": 13,
     "metadata": {},
     "output_type": "execute_result"
    }
   ],
   "source": [
    "blocks.head()"
   ]
  },
  {
   "cell_type": "code",
   "execution_count": 15,
   "metadata": {
    "collapsed": false
   },
   "outputs": [],
   "source": [
    "tx_in = pd.read_csv('tx_in/tx_in_1.csv',sep = \";\", header=None)\n",
    "tx_in.columns = [\"txid\", \"hashPrevOut\", \"indexPrevOut\", \"scriptSig\", \"sequence\"]"
   ]
  },
  {
   "cell_type": "code",
   "execution_count": 27,
   "metadata": {
    "collapsed": false
   },
   "outputs": [
    {
     "data": {
      "text/html": [
       "<div>\n",
       "<table border=\"1\" class=\"dataframe\">\n",
       "  <thead>\n",
       "    <tr style=\"text-align: right;\">\n",
       "      <th></th>\n",
       "      <th>txid</th>\n",
       "      <th>hashPrevOut</th>\n",
       "      <th>indexPrevOut</th>\n",
       "      <th>scriptSig</th>\n",
       "      <th>sequence</th>\n",
       "    </tr>\n",
       "  </thead>\n",
       "  <tbody>\n",
       "    <tr>\n",
       "      <th>0</th>\n",
       "      <td>4a5e1e4baab89f3a32518a88c31bc87f618f76673e2cc7...</td>\n",
       "      <td>0000000000000000000000000000000000000000000000...</td>\n",
       "      <td>4294967295</td>\n",
       "      <td>04ffff001d0104455468652054696d65732030332f4a61...</td>\n",
       "      <td>4.294967e+09</td>\n",
       "    </tr>\n",
       "    <tr>\n",
       "      <th>1</th>\n",
       "      <td>0e3e2357e806b6cdb1f70b54c3a3a17b6714ee1f0e68be...</td>\n",
       "      <td>0000000000000000000000000000000000000000000000...</td>\n",
       "      <td>4294967295</td>\n",
       "      <td>04ffff001d0104</td>\n",
       "      <td>4.294967e+09</td>\n",
       "    </tr>\n",
       "    <tr>\n",
       "      <th>2</th>\n",
       "      <td>9b0fc92260312ce44e74ef369f5c66bbb85848f2eddd5a...</td>\n",
       "      <td>0000000000000000000000000000000000000000000000...</td>\n",
       "      <td>4294967295</td>\n",
       "      <td>04ffff001d010b</td>\n",
       "      <td>4.294967e+09</td>\n",
       "    </tr>\n",
       "    <tr>\n",
       "      <th>3</th>\n",
       "      <td>999e1c837c76a1b7fbb7e57baf87b309960f5ffefbf2a9...</td>\n",
       "      <td>0000000000000000000000000000000000000000000000...</td>\n",
       "      <td>4294967295</td>\n",
       "      <td>04ffff001d010e</td>\n",
       "      <td>4.294967e+09</td>\n",
       "    </tr>\n",
       "    <tr>\n",
       "      <th>4</th>\n",
       "      <td>df2b060fa2e5e9c8ed5eaf6a45c13753ec8c63282b2688...</td>\n",
       "      <td>0000000000000000000000000000000000000000000000...</td>\n",
       "      <td>4294967295</td>\n",
       "      <td>04ffff001d011a</td>\n",
       "      <td>4.294967e+09</td>\n",
       "    </tr>\n",
       "  </tbody>\n",
       "</table>\n",
       "</div>"
      ],
      "text/plain": [
       "                                                txid  \\\n",
       "0  4a5e1e4baab89f3a32518a88c31bc87f618f76673e2cc7...   \n",
       "1  0e3e2357e806b6cdb1f70b54c3a3a17b6714ee1f0e68be...   \n",
       "2  9b0fc92260312ce44e74ef369f5c66bbb85848f2eddd5a...   \n",
       "3  999e1c837c76a1b7fbb7e57baf87b309960f5ffefbf2a9...   \n",
       "4  df2b060fa2e5e9c8ed5eaf6a45c13753ec8c63282b2688...   \n",
       "\n",
       "                                         hashPrevOut  indexPrevOut  \\\n",
       "0  0000000000000000000000000000000000000000000000...    4294967295   \n",
       "1  0000000000000000000000000000000000000000000000...    4294967295   \n",
       "2  0000000000000000000000000000000000000000000000...    4294967295   \n",
       "3  0000000000000000000000000000000000000000000000...    4294967295   \n",
       "4  0000000000000000000000000000000000000000000000...    4294967295   \n",
       "\n",
       "                                           scriptSig      sequence  \n",
       "0  04ffff001d0104455468652054696d65732030332f4a61...  4.294967e+09  \n",
       "1                                     04ffff001d0104  4.294967e+09  \n",
       "2                                     04ffff001d010b  4.294967e+09  \n",
       "3                                     04ffff001d010e  4.294967e+09  \n",
       "4                                     04ffff001d011a  4.294967e+09  "
      ]
     },
     "execution_count": 27,
     "metadata": {},
     "output_type": "execute_result"
    }
   ],
   "source": [
    "tx_in.head()"
   ]
  },
  {
   "cell_type": "code",
   "execution_count": null,
   "metadata": {
    "collapsed": true
   },
   "outputs": [],
   "source": []
  }
 ],
 "metadata": {
  "kernelspec": {
   "display_name": "Python 3",
   "language": "python",
   "name": "python3"
  },
  "language_info": {
   "codemirror_mode": {
    "name": "ipython",
    "version": 3
   },
   "file_extension": ".py",
   "mimetype": "text/x-python",
   "name": "python",
   "nbconvert_exporter": "python",
   "pygments_lexer": "ipython3",
   "version": "3.6.0"
  }
 },
 "nbformat": 4,
 "nbformat_minor": 2
}
