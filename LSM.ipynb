{
 "cells": [
  {
   "cell_type": "code",
   "execution_count": 1,
   "metadata": {
    "collapsed": true
   },
   "outputs": [],
   "source": [
    "from __future__ import absolute_import\n",
    "from __future__ import division\n",
    "from __future__ import print_function\n",
    "\n",
    "import pandas as pd\n",
    "import edward as ed\n",
    "import numpy as np\n",
    "import tensorflow as tf\n",
    "import matplotlib.pyplot as plt\n",
    "import networkx as nx\n",
    "\n",
    "from edward.models import Normal, Poisson, Bernoulli, InverseGamma\n",
    "import collections\n",
    "import pandas as pd\n",
    "import numpy as np"
   ]
  },
  {
   "cell_type": "code",
   "execution_count": 2,
   "metadata": {
    "collapsed": false
   },
   "outputs": [],
   "source": [
    "netw = pd.read_csv('/Users/oliver/Dropbox/EDU/DTU/Blockchain-Transaction-Classification/Data/network_subsample_2.csv', sep=\",\", header=0)"
   ]
  },
  {
   "cell_type": "code",
   "execution_count": 3,
   "metadata": {
    "collapsed": false
   },
   "outputs": [],
   "source": [
    "#Editing data:\n",
    "netw_uniq = netw[netw['userID_send'] != netw['userID_recv']]                                            #Removing all users who sent to themselves\n",
    "netw_uniq = netw_uniq.drop_duplicates(subset=['userID_send','userID_recv'], keep='last', inplace=False)  #Removing identical pairs, keeping the last ones\n",
    "\n",
    "#Finding x% last made links:\n",
    "netw_uniq=netw_uniq.sort_values(by='unixtime', axis=0, ascending=True)\n",
    "unix = int(np.round(len(netw_uniq)*0.99))\n",
    "sort = netw_uniq.iloc[unix][1] #sort er en numpy funktion navn TJEK!!!!!\n",
    "\n",
    "#Creating subset:\n",
    "data = netw_uniq #Creating a subset\n",
    "\n",
    "#Editing matrix:\n",
    "#from: https://stackoverflow.com/questions/49095067/how-to-convert-weighted-edge-list-to-adjacency-matrix-in-python\n",
    "data.drop(['tx_id'], axis=1)                                                                            #Dropping column w. tx_id                                                      #Rearraning columns\n",
    "data = data[['userID_send','userID_recv','unixtime']]                                                                                         #Implementing rearranging\n",
    "\n",
    "\n",
    "#data.rename(index=str, columns={\"userID_send\": \"0\", \"userID_recv\": \"1\", \"unixtime\": \"2\"})               #Renaming columns"
   ]
  },
  {
   "cell_type": "code",
   "execution_count": 4,
   "metadata": {
    "collapsed": true
   },
   "outputs": [],
   "source": [
    "nodes = data.iloc[:, 0].tolist() + data.iloc[:, 1].tolist()\n",
    "nodes = sorted(list(set(nodes)))\n",
    "nodes = [(i,nodes[i]) for i in range(len(nodes))]\n",
    "for i in range(len(nodes)): # for loops burde skiftes ud med map() funktion\n",
    "    data = data.replace(nodes[i][1], nodes[i][0])\n",
    "\n",
    "from scipy.sparse import coo_matrix\n",
    "M = coo_matrix((data.iloc[:,2], (data.iloc[:,0],data.iloc[:,1])), shape=(len(nodes), len(nodes)))\n",
    "M_zeroing = M.todense()\n",
    "M_fullData = M.todense()\n",
    "M_originalZero= M.todense()\n",
    "\n",
    "#Creating correct indexes in adjecency matrix:\n",
    "#Original dataset, with all links in adjacency matrix.\n",
    "M_fullData[M_fullData>0]=1                        #Making all non-zeros into ones\n",
    "OnesBeforeZeroing=(M_fullData>0).sum()                              #Number of 1'nes before sort= 125944\n",
    "\n",
    "#Before touching:\n",
    "(M_fullData>sort).sum()  #=1258\n",
    "(M_fullData==0).sum()    #=99255017\n",
    "(M_fullData>0).sum()    #= 125944\n",
    "#Stats are same afterwards\n",
    "\n",
    "\n",
    "#Adjecency matrix with only 99% of links:\n",
    "M_zeroing[M_zeroing>sort]= 0                          #Making all the last 1% into zeros\n",
    "M_zeroing[M_zeroing>0]=1                              #Making all non-zeros into ones\n",
    "OnesAfterZeroing=(M_zeroing>0).sum()                              #Number of 1'nes after sort =124686\n",
    "\n",
    "#Before running 61-63:\n",
    "(M_zeroing>sort).sum()  #=1258\n",
    "(M_zeroing==0).sum()    #=99255017\n",
    "(M_zeroing>0).sum()     #=125944\n",
    "#After:\n",
    "(M_zeroing>sort).sum()  #=0\n",
    "(M_zeroing==0).sum()    #=99256275 (=99255017+1258)\n",
    "(M_zeroing>0).sum()     #=124686 (125944-1258)\n",
    "\n",
    "percentage = OnesAfterZeroing/OnesBeforeZeroing                                #Checking the number fits with 1%\n",
    "\n",
    "#Creating dataset consisting of only ones we have removed:\n",
    "M_onesRemoved= M_fullData-M_zeroing\n",
    "(M_onesRemoved>0).sum() #=1258\n",
    "\n",
    "#Creating a dataset consisting of only the correct zero's - same amount as correct ones (=1258)\n",
    "(M_originalZero==0).sum()\n",
    "(M_originalZero==1).sum()\n",
    "M_originalZero[M_originalZero>0]=1"
   ]
  },
  {
   "cell_type": "code",
   "execution_count": 5,
   "metadata": {
    "collapsed": true
   },
   "outputs": [],
   "source": [
    "#Defining variables and model:\n",
    "x_train = M_zeroing\n",
    "\n",
    "M_fullDataA = M_fullData\n",
    "M_onesRemovedA = M_onesRemoved"
   ]
  },
  {
   "cell_type": "code",
   "execution_count": 7,
   "metadata": {
    "collapsed": false
   },
   "outputs": [],
   "source": [
    "N = x_train.shape[0]  # number of data points\n",
    "K = 3  # latent dimensionality\n",
    "\n",
    "scale_z = InverseGamma(tf.ones([1,K])*1e-3, tf.ones([1,K])*1e-3) \n",
    "scale_b = InverseGamma([1e-3], [1e-3]) #Gelman 2006\n",
    "\n",
    "z2 = Normal(loc = tf.zeros([N, K]), scale = (tf.sqrt(scale_z)*tf.ones([N, K]))) #Tjek søjle\n",
    "z1 = Normal(loc = tf.zeros([N, K]), scale = (tf.sqrt(scale_z)*tf.ones([N, K])))       \n",
    "b = Normal(loc = tf.zeros(1), scale = (tf.sqrt(scale_b)*tf.ones(1)))\n",
    "\n",
    "pi1 = tf.tile(tf.reduce_sum(tf.pow(z1, 2), 1, keepdims=True), [1, N])\n",
    "pi2 = tf.tile(tf.reduce_sum(tf.pow(z2, 2), 1, keepdims=True), [1, N])        \n",
    "           \n",
    "pi = pi1 + tf.transpose(pi2) - 2 * tf.matmul(z1, z2, transpose_b=True)\n",
    "\n",
    "pi = -tf.sqrt(pi + tf.diag(tf.zeros(N) + 1e3))\n",
    "\n",
    "pi3 = tf.sigmoid(pi + b)\n",
    "\n",
    "x = Bernoulli(probs = pi3)"
   ]
  },
  {
   "cell_type": "code",
   "execution_count": 8,
   "metadata": {
    "collapsed": false
   },
   "outputs": [
    {
     "name": "stderr",
     "output_type": "stream",
     "text": [
      "/anaconda/lib/python3.6/site-packages/edward/util/random_variables.py:52: FutureWarning: Conversion of the second argument of issubdtype from `float` to `np.floating` is deprecated. In future, it will be treated as `np.float64 == np.dtype(float).type`.\n",
      "  not np.issubdtype(value.dtype, np.float) and \\\n",
      "/anaconda/lib/python3.6/site-packages/edward/util/random_variables.py:53: FutureWarning: Conversion of the second argument of issubdtype from `int` to `np.signedinteger` is deprecated. In future, it will be treated as `np.int64 == np.dtype(int).type`.\n",
      "  not np.issubdtype(value.dtype, np.int) and \\\n"
     ]
    }
   ],
   "source": [
    "qz1 = Normal(loc=tf.get_variable(\"qz1/loc\", [N, K]),\n",
    "             scale=tf.nn.softplus(tf.get_variable(\"qz1/scale\", [N, K])))\n",
    "qz2 = Normal(loc=tf.get_variable(\"qz2/loc\", [N, K]),\n",
    "             scale=tf.nn.softplus(tf.get_variable(\"qz2/scale\", [N, K])))\n",
    "qb = Normal(loc=tf.get_variable(\"qb/loc\", 1),\n",
    "             scale=tf.nn.softplus(tf.get_variable(\"qb/scale\", 1)))\n",
    "\n",
    "qscale_z = Normal(loc=tf.get_variable(\"qscale_z/loc\", [1, K]),\n",
    "             scale=tf.nn.softplus(tf.get_variable(\"qscale_z/scale\", [1, K])))\n",
    "\n",
    "qscale_b = Normal(loc=tf.get_variable(\"qscale_b/loc\", 1),\n",
    "             scale=tf.nn.softplus(tf.get_variable(\"qscale_b/scale\", 1)))\n",
    "\n",
    "inference = ed.KLqp({z1: qz1,\n",
    "                     z2: qz2,\n",
    "                     scale_z: qscale_z,\n",
    "                     scale_b: qscale_b,\n",
    "                     b: qb},\n",
    "                     data={x: x_train})"
   ]
  },
  {
   "cell_type": "code",
   "execution_count": 9,
   "metadata": {
    "collapsed": false
   },
   "outputs": [],
   "source": [
    "inference.initialize(n_iter=20,logdir='log')\n",
    "\n",
    "tf.global_variables_initializer().run()\n",
    "\n",
    "info_loss = np.zeros(20)\n",
    "\n",
    "\n",
    "for _ in range(inference.n_iter):\n",
    "  info_dict = inference.update()\n",
    "  inference.print_progress(info_dict)\n",
    "  info_loss[_] = info_dict['loss']\n",
    "\n",
    "inference.finalize()"
   ]
  },
  {
   "cell_type": "code",
   "execution_count": 10,
   "metadata": {
    "collapsed": true
   },
   "outputs": [],
   "source": [
    "sess = ed.get_session()\n",
    "x_post = ed.copy(pi3, {z1: qz1,\n",
    "                     z2: qz2,\n",
    "                     scale_z: qscale_z,\n",
    "                     scale_b: qscale_b,\n",
    "                     b: qb})\n",
    "x_gen = sess.run(x_post)"
   ]
  },
  {
   "cell_type": "code",
   "execution_count": 1,
   "metadata": {
    "collapsed": false
   },
   "outputs": [],
   "source": [
    "#Getting pi for M_onesRemoved:\n",
    "M_onesRemovedtf= tf.convert_to_tensor(M_onesRemovedA, np.float32)\n",
    "pi_onesRemoved= tf.multiply(M_onesRemovedtf,x_gen) #ændret her !!!!!\n",
    "pi_onesRemoved_matrix= pi_onesRemoved.eval()\n",
    "pi_onesRemoved_array=np.asarray(pi_onesRemoved_matrix).reshape(-1)\n",
    "pi_onesRemoved_array=pi_onesRemoved_array[pi_onesRemoved_array!=0]          #All probabilities for ones_removed\n",
    "nrOfZeros=len(pi_onesRemoved_array)\n",
    "\n",
    "#Getting pi for M_fulldata\n",
    "M_fullDataA= np.asarray(pi_onesRemoved_matrix).reshape(-1)\n",
    "where_zero=np.where(M_fullDataA==0)[0]\n",
    "where_zero_index=np.random.choice(where_zero,nrOfZeros)\n",
    "pi_zeros= x_gen #ændret her !!!!!!\n",
    "pi_array= np.asarray(pi_zeros).reshape(-1)\n",
    "pi_originalZeros=pi_array[where_zero_index]                                 #All probabilities for correct zeros\n",
    "\n",
    "Creating arrays with zeros and ones:\n",
    "zeros=np.zeros(nrOfZeros)\n",
    "ones=np.ones(nrOfZeros)\n",
    "#Setting together:\n",
    "y_test= np.concatenate((zeros, ones), axis=0)\n",
    "p = np.concatenate((pi_originalZeros, pi_onesRemoved_array), axis=0)"
   ]
  },
  {
   "cell_type": "code",
   "execution_count": 21,
   "metadata": {
    "collapsed": false
   },
   "outputs": [],
   "source": [
    "#Inserting ROC-method\n",
    "#Inserting ROC-script (supposed to be imported):\n",
    "from pylab import *\n",
    "from scipy.io import loadmat\n",
    "from sklearn import cross_validation\n",
    "from sklearn.linear_model import LogisticRegression\n",
    "#from toolbox_02450 import rocplot, confmatplot\n",
    "\n",
    "from sklearn import metrics\n",
    "def rocplot(p, y):\n",
    "    fpr, tpr, thresholds = metrics.roc_curve(y.ravel(),p.ravel())\n",
    "    AUC = metrics.roc_auc_score(y.ravel(), p.ravel())\n",
    "    plt.plot(fpr, tpr, 'r', [0, 1], [0, 1], 'k')\n",
    "    plt.xlim([-0.01,1.01]); ylim([-0.01,1.01])\n",
    "    plt.xlabel('False positive rate (1-Specificity)')\n",
    "    plt.ylabel('True positive rate (Sensitivity)')\n",
    "    plt.title('Receiver operating characteristic (ROC)\\n AUC={:.3f}'.format(AUC))\n",
    "    plt.show()\n",
    "    return AUC#, tpr, fpr"
   ]
  },
  {
   "cell_type": "code",
   "execution_count": 22,
   "metadata": {
    "collapsed": false
   },
   "outputs": [
    {
     "data": {
      "image/png": "[encoded data removed]",
      "text/plain": [
       "<matplotlib.figure.Figure at 0x169a23748>"
      ]
     },
     "metadata": {},
     "output_type": "display_data"
    },
    {
     "name": "stdout",
     "output_type": "stream",
     "text": [
      "0.8689335786735954\n"
     ]
    }
   ],
   "source": [
    "print(rocplot(p, y_test))"
   ]
  }
 ],
 "metadata": {
  "kernelspec": {
   "display_name": "Python 3",
   "language": "python",
   "name": "python3"
  },
  "language_info": {
   "codemirror_mode": {
    "name": "ipython",
    "version": 3
   },
   "file_extension": ".py",
   "mimetype": "text/x-python",
   "name": "python",
   "nbconvert_exporter": "python",
   "pygments_lexer": "ipython3",
   "version": "3.6.0"
  }
 },
 "nbformat": 4,
 "nbformat_minor": 2
}
